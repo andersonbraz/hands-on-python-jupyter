{
  "nbformat": 4,
  "nbformat_minor": 0,
  "metadata": {
    "colab": {
      "name": "Pandas_Exercises.ipynb",
      "provenance": [],
      "authorship_tag": "ABX9TyPscaJoEvzBjctO87RJW16s",
      "include_colab_link": true
    },
    "kernelspec": {
      "name": "python3",
      "display_name": "Python 3"
    }
  },
  "cells": [
    {
      "cell_type": "markdown",
      "metadata": {
        "id": "view-in-github",
        "colab_type": "text"
      },
      "source": [
        "<a href=\"https://colab.research.google.com/github/andersonbraz/hands-on-python-jupyter/blob/main/Pandas_Exercises.ipynb\" target=\"_parent\"><img src=\"https://colab.research.google.com/assets/colab-badge.svg\" alt=\"Open In Colab\"/></a>"
      ]
    },
    {
      "cell_type": "code",
      "metadata": {
        "colab": {
          "base_uri": "https://localhost:8080/"
        },
        "id": "TIbga-yZXPw3",
        "outputId": "3f88d9e0-57e0-4f39-ce02-9b052e907c28"
      },
      "source": [
        "import pandas as pd\n",
        "import numpy as np\n",
        "import matplotlib.pyplot as plt\n",
        "from unicodedata import normalize\n",
        "\n",
        "url ='https://en.wikipedia.org/wiki/List_of_neighborhoods_in_Miami'\n",
        "tables = pd.read_html(url)\n",
        "\n",
        "print(f'Total tables: {len(tables)}')"
      ],
      "execution_count": 1,
      "outputs": [
        {
          "output_type": "stream",
          "text": [
            "Total tables: 3\n"
          ],
          "name": "stdout"
        }
      ]
    },
    {
      "cell_type": "code",
      "metadata": {
        "colab": {
          "base_uri": "https://localhost:8080/",
          "height": 204
        },
        "id": "vt5z3Y6cXgfq",
        "outputId": "848f5a89-42b3-470b-d6ea-3f4259689807"
      },
      "source": [
        "df = tables[0]\n",
        "df.head()"
      ],
      "execution_count": 2,
      "outputs": [
        {
          "output_type": "execute_result",
          "data": {
            "text/html": [
              "<div>\n",
              "<style scoped>\n",
              "    .dataframe tbody tr th:only-of-type {\n",
              "        vertical-align: middle;\n",
              "    }\n",
              "\n",
              "    .dataframe tbody tr th {\n",
              "        vertical-align: top;\n",
              "    }\n",
              "\n",
              "    .dataframe thead th {\n",
              "        text-align: right;\n",
              "    }\n",
              "</style>\n",
              "<table border=\"1\" class=\"dataframe\">\n",
              "  <thead>\n",
              "    <tr style=\"text-align: right;\">\n",
              "      <th></th>\n",
              "      <th>Neighborhood</th>\n",
              "      <th>Demonym</th>\n",
              "      <th>Population2010</th>\n",
              "      <th>Population/Km²</th>\n",
              "      <th>Sub-neighborhoods</th>\n",
              "      <th>Coordinates</th>\n",
              "    </tr>\n",
              "  </thead>\n",
              "  <tbody>\n",
              "    <tr>\n",
              "      <th>0</th>\n",
              "      <td>Allapattah</td>\n",
              "      <td>NaN</td>\n",
              "      <td>54289</td>\n",
              "      <td>4401</td>\n",
              "      <td>NaN</td>\n",
              "      <td>25.815-80.224</td>\n",
              "    </tr>\n",
              "    <tr>\n",
              "      <th>1</th>\n",
              "      <td>Arts &amp; Entertainment District</td>\n",
              "      <td>NaN</td>\n",
              "      <td>11033</td>\n",
              "      <td>7948</td>\n",
              "      <td>NaN</td>\n",
              "      <td>25.799-80.190</td>\n",
              "    </tr>\n",
              "    <tr>\n",
              "      <th>2</th>\n",
              "      <td>Brickell</td>\n",
              "      <td>Brickellite</td>\n",
              "      <td>31759</td>\n",
              "      <td>14541</td>\n",
              "      <td>West Brickell</td>\n",
              "      <td>25.758-80.193</td>\n",
              "    </tr>\n",
              "    <tr>\n",
              "      <th>3</th>\n",
              "      <td>Buena Vista</td>\n",
              "      <td>NaN</td>\n",
              "      <td>9058</td>\n",
              "      <td>3540</td>\n",
              "      <td>Buena Vista East Historic District and Design ...</td>\n",
              "      <td>25.813-80.192</td>\n",
              "    </tr>\n",
              "    <tr>\n",
              "      <th>4</th>\n",
              "      <td>Coconut Grove</td>\n",
              "      <td>Grovite</td>\n",
              "      <td>20076</td>\n",
              "      <td>3091</td>\n",
              "      <td>Center Grove, Northeast Coconut Grove, Southwe...</td>\n",
              "      <td>25.712-80.257</td>\n",
              "    </tr>\n",
              "  </tbody>\n",
              "</table>\n",
              "</div>"
            ],
            "text/plain": [
              "                    Neighborhood  ...    Coordinates\n",
              "0                     Allapattah  ...  25.815-80.224\n",
              "1  Arts & Entertainment District  ...  25.799-80.190\n",
              "2                       Brickell  ...  25.758-80.193\n",
              "3                    Buena Vista  ...  25.813-80.192\n",
              "4                  Coconut Grove  ...  25.712-80.257\n",
              "\n",
              "[5 rows x 6 columns]"
            ]
          },
          "metadata": {
            "tags": []
          },
          "execution_count": 2
        }
      ]
    },
    {
      "cell_type": "code",
      "metadata": {
        "colab": {
          "base_uri": "https://localhost:8080/"
        },
        "id": "0OSQKZmtcxZY",
        "outputId": "98192733-8794-4bf7-c633-82715cae61ee"
      },
      "source": [
        "df.info()"
      ],
      "execution_count": 3,
      "outputs": [
        {
          "output_type": "stream",
          "text": [
            "<class 'pandas.core.frame.DataFrame'>\n",
            "RangeIndex: 26 entries, 0 to 25\n",
            "Data columns (total 6 columns):\n",
            " #   Column             Non-Null Count  Dtype \n",
            "---  ------             --------------  ----- \n",
            " 0   Neighborhood       26 non-null     object\n",
            " 1   Demonym            8 non-null      object\n",
            " 2   Population2010     25 non-null     object\n",
            " 3   Population/Km²     25 non-null     object\n",
            " 4   Sub-neighborhoods  13 non-null     object\n",
            " 5   Coordinates        24 non-null     object\n",
            "dtypes: object(6)\n",
            "memory usage: 1.3+ KB\n"
          ],
          "name": "stdout"
        }
      ]
    }
  ]
}